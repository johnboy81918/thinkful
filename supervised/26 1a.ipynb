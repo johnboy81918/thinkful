{
 "cells": [
  {
   "cell_type": "code",
   "execution_count": 1,
   "metadata": {},
   "outputs": [],
   "source": [
    "import pandas as pd\n",
    "import numpy as np\n",
    "import scipy\n",
    "import matplotlib.pyplot as plt\n",
    "import statsmodels.api as sm\n",
    "from sklearn import neighbors\n",
    "from sklearn.neighbors import KNeighborsClassifier\n",
    "from sklearn.model_selection import train_test_split, cross_val_score\n",
    "from sklearn.metrics import mean_absolute_error\n",
    "from statsmodels.tools.eval_measures import mse, rmse\n",
    "from sklearn.linear_model import LinearRegression, LassoCV, RidgeCV, ElasticNetCV\n",
    "from sklearn.naive_bayes import BernoulliNB\n",
    "%matplotlib inline"
   ]
  },
  {
   "cell_type": "code",
   "execution_count": 2,
   "metadata": {},
   "outputs": [],
   "source": [
    "# load the data\n",
    "\n",
    "df = pd.read_csv('RegularSeasonDetailedResults.csv')"
   ]
  },
  {
   "cell_type": "code",
   "execution_count": 3,
   "metadata": {},
   "outputs": [
    {
     "data": {
      "text/html": [
       "<div>\n",
       "<style scoped>\n",
       "    .dataframe tbody tr th:only-of-type {\n",
       "        vertical-align: middle;\n",
       "    }\n",
       "\n",
       "    .dataframe tbody tr th {\n",
       "        vertical-align: top;\n",
       "    }\n",
       "\n",
       "    .dataframe thead th {\n",
       "        text-align: right;\n",
       "    }\n",
       "</style>\n",
       "<table border=\"1\" class=\"dataframe\">\n",
       "  <thead>\n",
       "    <tr style=\"text-align: right;\">\n",
       "      <th></th>\n",
       "      <th>Season</th>\n",
       "      <th>DayNum</th>\n",
       "      <th>WTeamID</th>\n",
       "      <th>WScore</th>\n",
       "      <th>LTeamID</th>\n",
       "      <th>LScore</th>\n",
       "      <th>WLoc</th>\n",
       "      <th>NumOT</th>\n",
       "      <th>WFGM</th>\n",
       "      <th>WFGA</th>\n",
       "      <th>...</th>\n",
       "      <th>LFGA3</th>\n",
       "      <th>LFTM</th>\n",
       "      <th>LFTA</th>\n",
       "      <th>LOR</th>\n",
       "      <th>LDR</th>\n",
       "      <th>LAst</th>\n",
       "      <th>LTO</th>\n",
       "      <th>LStl</th>\n",
       "      <th>LBlk</th>\n",
       "      <th>LPF</th>\n",
       "    </tr>\n",
       "  </thead>\n",
       "  <tbody>\n",
       "    <tr>\n",
       "      <th>0</th>\n",
       "      <td>2003</td>\n",
       "      <td>10</td>\n",
       "      <td>1104</td>\n",
       "      <td>68</td>\n",
       "      <td>1328</td>\n",
       "      <td>62</td>\n",
       "      <td>N</td>\n",
       "      <td>0</td>\n",
       "      <td>27</td>\n",
       "      <td>58</td>\n",
       "      <td>...</td>\n",
       "      <td>10</td>\n",
       "      <td>16</td>\n",
       "      <td>22</td>\n",
       "      <td>10</td>\n",
       "      <td>22</td>\n",
       "      <td>8</td>\n",
       "      <td>18</td>\n",
       "      <td>9</td>\n",
       "      <td>2</td>\n",
       "      <td>20</td>\n",
       "    </tr>\n",
       "    <tr>\n",
       "      <th>1</th>\n",
       "      <td>2003</td>\n",
       "      <td>10</td>\n",
       "      <td>1272</td>\n",
       "      <td>70</td>\n",
       "      <td>1393</td>\n",
       "      <td>63</td>\n",
       "      <td>N</td>\n",
       "      <td>0</td>\n",
       "      <td>26</td>\n",
       "      <td>62</td>\n",
       "      <td>...</td>\n",
       "      <td>24</td>\n",
       "      <td>9</td>\n",
       "      <td>20</td>\n",
       "      <td>20</td>\n",
       "      <td>25</td>\n",
       "      <td>7</td>\n",
       "      <td>12</td>\n",
       "      <td>8</td>\n",
       "      <td>6</td>\n",
       "      <td>16</td>\n",
       "    </tr>\n",
       "    <tr>\n",
       "      <th>2</th>\n",
       "      <td>2003</td>\n",
       "      <td>11</td>\n",
       "      <td>1266</td>\n",
       "      <td>73</td>\n",
       "      <td>1437</td>\n",
       "      <td>61</td>\n",
       "      <td>N</td>\n",
       "      <td>0</td>\n",
       "      <td>24</td>\n",
       "      <td>58</td>\n",
       "      <td>...</td>\n",
       "      <td>26</td>\n",
       "      <td>14</td>\n",
       "      <td>23</td>\n",
       "      <td>31</td>\n",
       "      <td>22</td>\n",
       "      <td>9</td>\n",
       "      <td>12</td>\n",
       "      <td>2</td>\n",
       "      <td>5</td>\n",
       "      <td>23</td>\n",
       "    </tr>\n",
       "    <tr>\n",
       "      <th>3</th>\n",
       "      <td>2003</td>\n",
       "      <td>11</td>\n",
       "      <td>1296</td>\n",
       "      <td>56</td>\n",
       "      <td>1457</td>\n",
       "      <td>50</td>\n",
       "      <td>N</td>\n",
       "      <td>0</td>\n",
       "      <td>18</td>\n",
       "      <td>38</td>\n",
       "      <td>...</td>\n",
       "      <td>22</td>\n",
       "      <td>8</td>\n",
       "      <td>15</td>\n",
       "      <td>17</td>\n",
       "      <td>20</td>\n",
       "      <td>9</td>\n",
       "      <td>19</td>\n",
       "      <td>4</td>\n",
       "      <td>3</td>\n",
       "      <td>23</td>\n",
       "    </tr>\n",
       "    <tr>\n",
       "      <th>4</th>\n",
       "      <td>2003</td>\n",
       "      <td>11</td>\n",
       "      <td>1400</td>\n",
       "      <td>77</td>\n",
       "      <td>1208</td>\n",
       "      <td>71</td>\n",
       "      <td>N</td>\n",
       "      <td>0</td>\n",
       "      <td>30</td>\n",
       "      <td>61</td>\n",
       "      <td>...</td>\n",
       "      <td>16</td>\n",
       "      <td>17</td>\n",
       "      <td>27</td>\n",
       "      <td>21</td>\n",
       "      <td>15</td>\n",
       "      <td>12</td>\n",
       "      <td>10</td>\n",
       "      <td>7</td>\n",
       "      <td>1</td>\n",
       "      <td>14</td>\n",
       "    </tr>\n",
       "  </tbody>\n",
       "</table>\n",
       "<p>5 rows × 34 columns</p>\n",
       "</div>"
      ],
      "text/plain": [
       "   Season  DayNum  WTeamID  WScore  LTeamID  LScore WLoc  NumOT  WFGM  WFGA  \\\n",
       "0    2003      10     1104      68     1328      62    N      0    27    58   \n",
       "1    2003      10     1272      70     1393      63    N      0    26    62   \n",
       "2    2003      11     1266      73     1437      61    N      0    24    58   \n",
       "3    2003      11     1296      56     1457      50    N      0    18    38   \n",
       "4    2003      11     1400      77     1208      71    N      0    30    61   \n",
       "\n",
       "   ...  LFGA3  LFTM  LFTA  LOR  LDR  LAst  LTO  LStl  LBlk  LPF  \n",
       "0  ...     10    16    22   10   22     8   18     9     2   20  \n",
       "1  ...     24     9    20   20   25     7   12     8     6   16  \n",
       "2  ...     26    14    23   31   22     9   12     2     5   23  \n",
       "3  ...     22     8    15   17   20     9   19     4     3   23  \n",
       "4  ...     16    17    27   21   15    12   10     7     1   14  \n",
       "\n",
       "[5 rows x 34 columns]"
      ]
     },
     "execution_count": 3,
     "metadata": {},
     "output_type": "execute_result"
    }
   ],
   "source": [
    "df.head()"
   ]
  },
  {
   "cell_type": "code",
   "execution_count": 4,
   "metadata": {},
   "outputs": [],
   "source": [
    "# create training set from this data\n",
    "\n",
    "training_set = pd.DataFrame()"
   ]
  },
  {
   "cell_type": "code",
   "execution_count": 5,
   "metadata": {},
   "outputs": [],
   "source": [
    "training_set['net_fgm'] = df['WFGM'] - df['LFGM']\n",
    "training_set['net_fga'] = df['WFGA'] - df['LFGA']\n",
    "training_set['net_fgm3'] = df['WFGM3'] - df['LFGM3']\n",
    "training_set['net_fga3'] = df['WFGA3'] - df['LFGA3']\n",
    "training_set['net_ftm'] = df['WFTM'] - df['LFTM']\n",
    "training_set['net_fta'] = df['WFTA'] - df['LFTA']\n",
    "training_set['net_or'] = df['WOR'] - df['LOR']\n",
    "training_set['net_dr'] = df['WDR'] - df['LDR']\n",
    "training_set['net_tr'] = df['WOR'] + df['WDR'] - df['LOR'] - df['LDR']\n",
    "training_set['net_ast'] = df['WAst'] - df['LAst']\n",
    "training_set['net_to'] = df['WTO'] - df['LTO']\n",
    "training_set['net_stl'] = df['WStl'] - df['LStl']\n",
    "training_set['net_blk'] = df['WBlk'] - df['LBlk']\n",
    "training_set['net_pf'] = df['WPF'] - df['LPF']\n",
    "training_set['win'] = 1"
   ]
  },
  {
   "cell_type": "code",
   "execution_count": 6,
   "metadata": {},
   "outputs": [],
   "source": [
    "inverse_df = -training_set\n",
    "inverse_df['win'] = 0"
   ]
  },
  {
   "cell_type": "code",
   "execution_count": 7,
   "metadata": {},
   "outputs": [],
   "source": [
    "# this is the final version of the training set\n",
    "# x_train = all columns except 'win'\n",
    "# y_train = win column\n",
    "\n",
    "final_df = training_set.append(inverse_df)\n",
    "\n",
    "x_train = final_df.drop(columns = 'win')\n",
    "y_train = final_df['win']"
   ]
  },
  {
   "cell_type": "markdown",
   "metadata": {},
   "source": [
    "Next, create the test set. This competition will be graded solely on the 2019 NCAA tournament, so the data used to create the test set will come solely from games played in the 2018 season (in collegiate sports, the change in year-over-year performance can be drastic due to the constant roster changes).\n",
    "\n",
    "The objective here is to find each team's average in each metric provided in the training set (average net_fgm, average net_fga, etc.). Then, for any given matchup of team A vs. team B, compare their averages in each metric - the differences in these averages will yield the final data to be evaluated as the test set!"
   ]
  },
  {
   "cell_type": "code",
   "execution_count": 8,
   "metadata": {},
   "outputs": [],
   "source": [
    "df_2018 = df.loc[df['Season'] == 2018]"
   ]
  },
  {
   "cell_type": "code",
   "execution_count": 9,
   "metadata": {},
   "outputs": [],
   "source": [
    "df_2018_net = pd.DataFrame()"
   ]
  },
  {
   "cell_type": "code",
   "execution_count": 10,
   "metadata": {},
   "outputs": [],
   "source": [
    "df_2018_net['teamid'] = df_2018['WTeamID']\n",
    "df_2018_net['net_fgm'] = df_2018['WFGM'] - df_2018['LFGM']\n",
    "df_2018_net['net_fga'] = df_2018['WFGA'] - df_2018['LFGA']\n",
    "df_2018_net['net_fgm3'] = df_2018['WFGM3'] - df_2018['LFGM3']\n",
    "df_2018_net['net_fga3'] = df_2018['WFGA3'] - df_2018['LFGA3']\n",
    "df_2018_net['net_ftm'] = df_2018['WFTM'] - df_2018['LFTM']\n",
    "df_2018_net['net_fta'] = df_2018['WFTA'] - df_2018['LFTA']\n",
    "df_2018_net['net_or'] = df_2018['WOR'] - df_2018['LOR']\n",
    "df_2018_net['net_dr'] = df_2018['WDR'] - df_2018['LDR']\n",
    "df_2018_net['net_tr'] = df_2018['WOR'] + df_2018['WDR'] - df_2018['LOR'] - df_2018['LDR']\n",
    "df_2018_net['net_ast'] = df_2018['WAst'] - df_2018['LAst']\n",
    "df_2018_net['net_to'] = df_2018['WTO'] - df_2018['LTO']\n",
    "df_2018_net['net_stl'] = df_2018['WStl'] - df_2018['LStl']\n",
    "df_2018_net['net_blk'] = df_2018['WBlk'] - df_2018['LBlk']\n",
    "df_2018_net['net_pf'] = df_2018['WPF'] - df_2018['LPF']"
   ]
  },
  {
   "cell_type": "code",
   "execution_count": 11,
   "metadata": {},
   "outputs": [],
   "source": [
    "df_2018_inverse = -df_2018_net\n",
    "df_2018_inverse['teamid'] = df_2018['LTeamID']"
   ]
  },
  {
   "cell_type": "code",
   "execution_count": 12,
   "metadata": {},
   "outputs": [],
   "source": [
    "aggregate_2018_df = df_2018_net.append(df_2018_inverse)"
   ]
  },
  {
   "cell_type": "code",
   "execution_count": 13,
   "metadata": {},
   "outputs": [],
   "source": [
    "test_data = aggregate_2018_df.groupby('teamid')['net_fgm', 'net_fga', 'net_fgm3', 'net_fga3', 'net_ftm', 'net_fta', 'net_or',\n",
    "                                             'net_dr', 'net_tr', 'net_ast', 'net_to', 'net_stl', 'net_blk', 'net_pf'].mean()"
   ]
  },
  {
   "cell_type": "code",
   "execution_count": 14,
   "metadata": {},
   "outputs": [
    {
     "data": {
      "text/html": [
       "<div>\n",
       "<style scoped>\n",
       "    .dataframe tbody tr th:only-of-type {\n",
       "        vertical-align: middle;\n",
       "    }\n",
       "\n",
       "    .dataframe tbody tr th {\n",
       "        vertical-align: top;\n",
       "    }\n",
       "\n",
       "    .dataframe thead th {\n",
       "        text-align: right;\n",
       "    }\n",
       "</style>\n",
       "<table border=\"1\" class=\"dataframe\">\n",
       "  <thead>\n",
       "    <tr style=\"text-align: right;\">\n",
       "      <th></th>\n",
       "      <th>net_fgm</th>\n",
       "      <th>net_fga</th>\n",
       "      <th>net_fgm3</th>\n",
       "      <th>net_fga3</th>\n",
       "      <th>net_ftm</th>\n",
       "      <th>net_fta</th>\n",
       "      <th>net_or</th>\n",
       "      <th>net_dr</th>\n",
       "      <th>net_tr</th>\n",
       "      <th>net_ast</th>\n",
       "      <th>net_to</th>\n",
       "      <th>net_stl</th>\n",
       "      <th>net_blk</th>\n",
       "      <th>net_pf</th>\n",
       "    </tr>\n",
       "    <tr>\n",
       "      <th>teamid</th>\n",
       "      <th></th>\n",
       "      <th></th>\n",
       "      <th></th>\n",
       "      <th></th>\n",
       "      <th></th>\n",
       "      <th></th>\n",
       "      <th></th>\n",
       "      <th></th>\n",
       "      <th></th>\n",
       "      <th></th>\n",
       "      <th></th>\n",
       "      <th></th>\n",
       "      <th></th>\n",
       "      <th></th>\n",
       "    </tr>\n",
       "  </thead>\n",
       "  <tbody>\n",
       "    <tr>\n",
       "      <th>1101</th>\n",
       "      <td>0.740741</td>\n",
       "      <td>2.185185</td>\n",
       "      <td>-0.148148</td>\n",
       "      <td>0.222222</td>\n",
       "      <td>-3.481481</td>\n",
       "      <td>-4.777778</td>\n",
       "      <td>-0.888889</td>\n",
       "      <td>-1.814815</td>\n",
       "      <td>-2.703704</td>\n",
       "      <td>1.851852</td>\n",
       "      <td>-1.074074</td>\n",
       "      <td>0.629630</td>\n",
       "      <td>0.703704</td>\n",
       "      <td>3.370370</td>\n",
       "    </tr>\n",
       "    <tr>\n",
       "      <th>1102</th>\n",
       "      <td>-2.482759</td>\n",
       "      <td>1.655172</td>\n",
       "      <td>-1.344828</td>\n",
       "      <td>1.068966</td>\n",
       "      <td>0.275862</td>\n",
       "      <td>-0.206897</td>\n",
       "      <td>0.655172</td>\n",
       "      <td>-3.344828</td>\n",
       "      <td>-2.689655</td>\n",
       "      <td>-0.689655</td>\n",
       "      <td>-1.206897</td>\n",
       "      <td>0.862069</td>\n",
       "      <td>-0.965517</td>\n",
       "      <td>-0.586207</td>\n",
       "    </tr>\n",
       "    <tr>\n",
       "      <th>1103</th>\n",
       "      <td>-1.451613</td>\n",
       "      <td>1.193548</td>\n",
       "      <td>1.290323</td>\n",
       "      <td>4.032258</td>\n",
       "      <td>-3.290323</td>\n",
       "      <td>-3.870968</td>\n",
       "      <td>0.258065</td>\n",
       "      <td>-1.935484</td>\n",
       "      <td>-1.677419</td>\n",
       "      <td>-0.419355</td>\n",
       "      <td>0.838710</td>\n",
       "      <td>-0.419355</td>\n",
       "      <td>-1.258065</td>\n",
       "      <td>2.645161</td>\n",
       "    </tr>\n",
       "    <tr>\n",
       "      <th>1104</th>\n",
       "      <td>1.117647</td>\n",
       "      <td>-3.352941</td>\n",
       "      <td>-0.558824</td>\n",
       "      <td>-2.058824</td>\n",
       "      <td>0.705882</td>\n",
       "      <td>1.323529</td>\n",
       "      <td>-1.558824</td>\n",
       "      <td>1.764706</td>\n",
       "      <td>0.205882</td>\n",
       "      <td>0.911765</td>\n",
       "      <td>0.970588</td>\n",
       "      <td>-0.176471</td>\n",
       "      <td>1.705882</td>\n",
       "      <td>-0.970588</td>\n",
       "    </tr>\n",
       "    <tr>\n",
       "      <th>1105</th>\n",
       "      <td>-6.709677</td>\n",
       "      <td>-4.741935</td>\n",
       "      <td>-1.483871</td>\n",
       "      <td>0.193548</td>\n",
       "      <td>-1.032258</td>\n",
       "      <td>-0.516129</td>\n",
       "      <td>-0.258065</td>\n",
       "      <td>-2.322581</td>\n",
       "      <td>-2.580645</td>\n",
       "      <td>-3.870968</td>\n",
       "      <td>5.193548</td>\n",
       "      <td>-3.677419</td>\n",
       "      <td>-3.290323</td>\n",
       "      <td>-0.741935</td>\n",
       "    </tr>\n",
       "  </tbody>\n",
       "</table>\n",
       "</div>"
      ],
      "text/plain": [
       "         net_fgm   net_fga  net_fgm3  net_fga3   net_ftm   net_fta    net_or  \\\n",
       "teamid                                                                         \n",
       "1101    0.740741  2.185185 -0.148148  0.222222 -3.481481 -4.777778 -0.888889   \n",
       "1102   -2.482759  1.655172 -1.344828  1.068966  0.275862 -0.206897  0.655172   \n",
       "1103   -1.451613  1.193548  1.290323  4.032258 -3.290323 -3.870968  0.258065   \n",
       "1104    1.117647 -3.352941 -0.558824 -2.058824  0.705882  1.323529 -1.558824   \n",
       "1105   -6.709677 -4.741935 -1.483871  0.193548 -1.032258 -0.516129 -0.258065   \n",
       "\n",
       "          net_dr    net_tr   net_ast    net_to   net_stl   net_blk    net_pf  \n",
       "teamid                                                                        \n",
       "1101   -1.814815 -2.703704  1.851852 -1.074074  0.629630  0.703704  3.370370  \n",
       "1102   -3.344828 -2.689655 -0.689655 -1.206897  0.862069 -0.965517 -0.586207  \n",
       "1103   -1.935484 -1.677419 -0.419355  0.838710 -0.419355 -1.258065  2.645161  \n",
       "1104    1.764706  0.205882  0.911765  0.970588 -0.176471  1.705882 -0.970588  \n",
       "1105   -2.322581 -2.580645 -3.870968  5.193548 -3.677419 -3.290323 -0.741935  "
      ]
     },
     "execution_count": 14,
     "metadata": {},
     "output_type": "execute_result"
    }
   ],
   "source": [
    "test_data.head()"
   ]
  },
  {
   "cell_type": "code",
   "execution_count": 15,
   "metadata": {},
   "outputs": [],
   "source": [
    "submission_df = pd.read_csv('SampleSubmissionStage2.csv')"
   ]
  },
  {
   "cell_type": "code",
   "execution_count": 16,
   "metadata": {},
   "outputs": [],
   "source": [
    "# create final dataframe to submit into the models for prediction\n",
    "\n",
    "test_df = pd.DataFrame()\n",
    "test_df['team1'] = submission_df['ID'].str[5:9]\n",
    "test_df['team2'] = submission_df['ID'].str[10:14]"
   ]
  },
  {
   "cell_type": "code",
   "execution_count": 17,
   "metadata": {},
   "outputs": [],
   "source": [
    "test_copy = test_df\n",
    "\n",
    "for index, row in test_copy.iterrows():\n",
    "    test_copy.loc[index, 'net_fgm'] = test_data.loc[int(row['team1']), 'net_fgm'] - test_data.loc[int(row['team2']), 'net_fgm']\n",
    "    test_copy.loc[index, 'net_fga'] = test_data.loc[int(row['team1']), 'net_fga'] - test_data.loc[int(row['team2']), 'net_fga']\n",
    "    test_copy.loc[index, 'net_fgm3'] = test_data.loc[int(row['team1']), 'net_fgm3'] - test_data.loc[int(row['team2']), 'net_fgm3']\n",
    "    test_copy.loc[index, 'net_fga3'] = test_data.loc[int(row['team1']), 'net_fga3'] - test_data.loc[int(row['team2']), 'net_fga3']\n",
    "    test_copy.loc[index, 'net_ftm'] = test_data.loc[int(row['team1']), 'net_ftm'] - test_data.loc[int(row['team2']), 'net_ftm']\n",
    "    test_copy.loc[index, 'net_fta'] = test_data.loc[int(row['team1']), 'net_fta'] - test_data.loc[int(row['team2']), 'net_fta']\n",
    "    test_copy.loc[index, 'net_or'] = test_data.loc[int(row['team1']), 'net_or'] - test_data.loc[int(row['team2']), 'net_or']\n",
    "    test_copy.loc[index, 'net_dr'] = test_data.loc[int(row['team1']), 'net_dr'] - test_data.loc[int(row['team2']), 'net_dr']\n",
    "    test_copy.loc[index, 'net_tr'] = test_data.loc[int(row['team1']), 'net_tr'] - test_data.loc[int(row['team2']), 'net_tr']\n",
    "    test_copy.loc[index, 'net_ast'] = test_data.loc[int(row['team1']), 'net_ast'] - test_data.loc[int(row['team2']), 'net_ast']\n",
    "    test_copy.loc[index, 'net_to'] = test_data.loc[int(row['team1']), 'net_to'] - test_data.loc[int(row['team2']), 'net_to']\n",
    "    test_copy.loc[index, 'net_stl'] = test_data.loc[int(row['team1']), 'net_stl'] - test_data.loc[int(row['team2']), 'net_stl']\n",
    "    test_copy.loc[index, 'net_blk'] = test_data.loc[int(row['team1']), 'net_blk'] - test_data.loc[int(row['team2']), 'net_blk']\n",
    "    test_copy.loc[index, 'net_pf'] = test_data.loc[int(row['team1']), 'net_pf'] - test_data.loc[int(row['team2']), 'net_pf']"
   ]
  },
  {
   "cell_type": "code",
   "execution_count": 18,
   "metadata": {},
   "outputs": [
    {
     "data": {
      "text/html": [
       "<div>\n",
       "<style scoped>\n",
       "    .dataframe tbody tr th:only-of-type {\n",
       "        vertical-align: middle;\n",
       "    }\n",
       "\n",
       "    .dataframe tbody tr th {\n",
       "        vertical-align: top;\n",
       "    }\n",
       "\n",
       "    .dataframe thead th {\n",
       "        text-align: right;\n",
       "    }\n",
       "</style>\n",
       "<table border=\"1\" class=\"dataframe\">\n",
       "  <thead>\n",
       "    <tr style=\"text-align: right;\">\n",
       "      <th></th>\n",
       "      <th>team1</th>\n",
       "      <th>team2</th>\n",
       "      <th>net_fgm</th>\n",
       "      <th>net_fga</th>\n",
       "      <th>net_fgm3</th>\n",
       "      <th>net_fga3</th>\n",
       "      <th>net_ftm</th>\n",
       "      <th>net_fta</th>\n",
       "      <th>net_or</th>\n",
       "      <th>net_dr</th>\n",
       "      <th>net_tr</th>\n",
       "      <th>net_ast</th>\n",
       "      <th>net_to</th>\n",
       "      <th>net_stl</th>\n",
       "      <th>net_blk</th>\n",
       "      <th>net_pf</th>\n",
       "    </tr>\n",
       "  </thead>\n",
       "  <tbody>\n",
       "    <tr>\n",
       "      <th>0</th>\n",
       "      <td>1101</td>\n",
       "      <td>1113</td>\n",
       "      <td>-0.743130</td>\n",
       "      <td>2.249701</td>\n",
       "      <td>-0.857826</td>\n",
       "      <td>-0.261649</td>\n",
       "      <td>-7.997611</td>\n",
       "      <td>-10.519713</td>\n",
       "      <td>0.433692</td>\n",
       "      <td>-1.782557</td>\n",
       "      <td>-1.348865</td>\n",
       "      <td>2.819594</td>\n",
       "      <td>3.151732</td>\n",
       "      <td>-0.563919</td>\n",
       "      <td>0.639188</td>\n",
       "      <td>6.144564</td>\n",
       "    </tr>\n",
       "    <tr>\n",
       "      <th>1</th>\n",
       "      <td>1101</td>\n",
       "      <td>1120</td>\n",
       "      <td>-1.821759</td>\n",
       "      <td>-1.814815</td>\n",
       "      <td>-1.835648</td>\n",
       "      <td>-3.621528</td>\n",
       "      <td>-6.731481</td>\n",
       "      <td>-7.246528</td>\n",
       "      <td>-2.763889</td>\n",
       "      <td>-3.283565</td>\n",
       "      <td>-6.047454</td>\n",
       "      <td>0.226852</td>\n",
       "      <td>1.925926</td>\n",
       "      <td>-0.651620</td>\n",
       "      <td>-1.421296</td>\n",
       "      <td>4.151620</td>\n",
       "    </tr>\n",
       "    <tr>\n",
       "      <th>2</th>\n",
       "      <td>1101</td>\n",
       "      <td>1124</td>\n",
       "      <td>-1.968937</td>\n",
       "      <td>2.507766</td>\n",
       "      <td>1.174432</td>\n",
       "      <td>5.222222</td>\n",
       "      <td>-4.513740</td>\n",
       "      <td>-5.584229</td>\n",
       "      <td>-1.792115</td>\n",
       "      <td>-6.363202</td>\n",
       "      <td>-8.155317</td>\n",
       "      <td>1.948626</td>\n",
       "      <td>-2.783751</td>\n",
       "      <td>0.726404</td>\n",
       "      <td>0.768220</td>\n",
       "      <td>3.209080</td>\n",
       "    </tr>\n",
       "    <tr>\n",
       "      <th>3</th>\n",
       "      <td>1101</td>\n",
       "      <td>1125</td>\n",
       "      <td>-1.228956</td>\n",
       "      <td>4.912458</td>\n",
       "      <td>-4.693603</td>\n",
       "      <td>-9.626263</td>\n",
       "      <td>-3.420875</td>\n",
       "      <td>-4.656566</td>\n",
       "      <td>0.444444</td>\n",
       "      <td>-5.117845</td>\n",
       "      <td>-4.673401</td>\n",
       "      <td>-2.663300</td>\n",
       "      <td>-1.922559</td>\n",
       "      <td>1.872054</td>\n",
       "      <td>0.946128</td>\n",
       "      <td>4.612795</td>\n",
       "    </tr>\n",
       "    <tr>\n",
       "      <th>4</th>\n",
       "      <td>1101</td>\n",
       "      <td>1133</td>\n",
       "      <td>-0.353009</td>\n",
       "      <td>2.153935</td>\n",
       "      <td>0.726852</td>\n",
       "      <td>4.159722</td>\n",
       "      <td>-3.887731</td>\n",
       "      <td>-5.965278</td>\n",
       "      <td>-1.420139</td>\n",
       "      <td>-3.221065</td>\n",
       "      <td>-4.641204</td>\n",
       "      <td>1.726852</td>\n",
       "      <td>-0.886574</td>\n",
       "      <td>0.473380</td>\n",
       "      <td>-0.640046</td>\n",
       "      <td>3.495370</td>\n",
       "    </tr>\n",
       "  </tbody>\n",
       "</table>\n",
       "</div>"
      ],
      "text/plain": [
       "  team1 team2   net_fgm   net_fga  net_fgm3  net_fga3   net_ftm    net_fta  \\\n",
       "0  1101  1113 -0.743130  2.249701 -0.857826 -0.261649 -7.997611 -10.519713   \n",
       "1  1101  1120 -1.821759 -1.814815 -1.835648 -3.621528 -6.731481  -7.246528   \n",
       "2  1101  1124 -1.968937  2.507766  1.174432  5.222222 -4.513740  -5.584229   \n",
       "3  1101  1125 -1.228956  4.912458 -4.693603 -9.626263 -3.420875  -4.656566   \n",
       "4  1101  1133 -0.353009  2.153935  0.726852  4.159722 -3.887731  -5.965278   \n",
       "\n",
       "     net_or    net_dr    net_tr   net_ast    net_to   net_stl   net_blk  \\\n",
       "0  0.433692 -1.782557 -1.348865  2.819594  3.151732 -0.563919  0.639188   \n",
       "1 -2.763889 -3.283565 -6.047454  0.226852  1.925926 -0.651620 -1.421296   \n",
       "2 -1.792115 -6.363202 -8.155317  1.948626 -2.783751  0.726404  0.768220   \n",
       "3  0.444444 -5.117845 -4.673401 -2.663300 -1.922559  1.872054  0.946128   \n",
       "4 -1.420139 -3.221065 -4.641204  1.726852 -0.886574  0.473380 -0.640046   \n",
       "\n",
       "     net_pf  \n",
       "0  6.144564  \n",
       "1  4.151620  \n",
       "2  3.209080  \n",
       "3  4.612795  \n",
       "4  3.495370  "
      ]
     },
     "execution_count": 18,
     "metadata": {},
     "output_type": "execute_result"
    }
   ],
   "source": [
    "test_copy.head()"
   ]
  },
  {
   "cell_type": "code",
   "execution_count": 19,
   "metadata": {},
   "outputs": [],
   "source": [
    "bnb = BernoulliNB()\n",
    "\n",
    "bnb.fit(x_train, y_train)\n",
    "bnb_test = bnb.predict(test_copy.drop(columns = ['team1', 'team2']))\n",
    "bnb_submission = submission_df\n",
    "bnb_submission['Pred'] = bnb_test\n",
    "bnb_submission.to_csv('bnb_submission.csv', index=False)"
   ]
  },
  {
   "cell_type": "markdown",
   "metadata": {},
   "source": [
    "print(bnb_submission.loc[bnb_submission['ID'] == '2019_1153_1277'])"
   ]
  },
  {
   "cell_type": "code",
   "execution_count": 20,
   "metadata": {},
   "outputs": [],
   "source": [
    "lrm = LinearRegression()\n",
    "\n",
    "lrm.fit(x_train, y_train)\n",
    "lrm_test = lrm.predict(test_copy.drop(columns = ['team1', 'team2']))\n",
    "lrm_bounded = np.clip(lrm_test, 0, 1)\n",
    "lrm_submission = submission_df\n",
    "lrm_submission['Pred'] = lrm_bounded\n",
    "lrm_submission.to_csv('lrm_submission.csv', index=False)"
   ]
  },
  {
   "cell_type": "code",
   "execution_count": 21,
   "metadata": {},
   "outputs": [
    {
     "name": "stderr",
     "output_type": "stream",
     "text": [
      "c:\\program files (x86)\\microsoft visual studio\\shared\\python37_64\\lib\\site-packages\\sklearn\\linear_model\\ridge.py:147: LinAlgWarning: Ill-conditioned matrix (rcond=1.29703e-17): result may not be accurate.\n",
      "  overwrite_a=True).T\n",
      "c:\\program files (x86)\\microsoft visual studio\\shared\\python37_64\\lib\\site-packages\\sklearn\\linear_model\\ridge.py:147: LinAlgWarning: Ill-conditioned matrix (rcond=1.25706e-17): result may not be accurate.\n",
      "  overwrite_a=True).T\n",
      "c:\\program files (x86)\\microsoft visual studio\\shared\\python37_64\\lib\\site-packages\\sklearn\\linear_model\\ridge.py:147: LinAlgWarning: Ill-conditioned matrix (rcond=1.25807e-17): result may not be accurate.\n",
      "  overwrite_a=True).T\n"
     ]
    },
    {
     "name": "stdout",
     "output_type": "stream",
     "text": [
      "Best alpha value is: 10000.0\n",
      "R-squared of the model in training set is: 0.6796807800696064\n"
     ]
    }
   ],
   "source": [
    "alphas = [np.power(10.0,p) for p in np.arange(-10,40,1)]\n",
    "\n",
    "rcv = RidgeCV(alphas=alphas, cv=5)\n",
    "rcv.fit(x_train, y_train)\n",
    "print(\"Best alpha value is: {}\".format(rcv.alpha_))\n",
    "print(\"R-squared of the model in training set is: {}\".format(rcv.score(x_train, y_train)))"
   ]
  },
  {
   "cell_type": "code",
   "execution_count": 22,
   "metadata": {},
   "outputs": [],
   "source": [
    "rcv_test = rcv.predict(test_copy.drop(columns = ['team1', 'team2']))\n",
    "rcv_bounded = np.clip(rcv_test, 0, 1)\n",
    "rcv_submission = submission_df\n",
    "rcv_submission['Pred'] = rcv_bounded\n",
    "rcv_submission.to_csv('rcv_submission.csv', index=False)"
   ]
  },
  {
   "cell_type": "code",
   "execution_count": 23,
   "metadata": {},
   "outputs": [
    {
     "name": "stdout",
     "output_type": "stream",
     "text": [
      "Best alpha value is: 1e-10\n",
      "R-squared of the model in training set is: 0.6797338459115958\n"
     ]
    },
    {
     "name": "stderr",
     "output_type": "stream",
     "text": [
      "c:\\program files (x86)\\microsoft visual studio\\shared\\python37_64\\lib\\site-packages\\sklearn\\linear_model\\coordinate_descent.py:475: ConvergenceWarning: Objective did not converge. You might want to increase the number of iterations. Duality gap: 518.2340323336994, tolerance: 4.10205\n",
      "  positive)\n"
     ]
    }
   ],
   "source": [
    "lcv = LassoCV(alphas=alphas, cv=5)\n",
    "\n",
    "lcv.fit(x_train, y_train)\n",
    "print(\"Best alpha value is: {}\".format(lcv.alpha_))\n",
    "print(\"R-squared of the model in training set is: {}\".format(lcv.score(x_train, y_train)))"
   ]
  },
  {
   "cell_type": "code",
   "execution_count": 24,
   "metadata": {},
   "outputs": [],
   "source": [
    "lcv_test = lcv.predict(test_copy.drop(columns = ['team1', 'team2']))\n",
    "lcv_bounded = np.clip(lcv_test, 0, 1)\n",
    "lcv_submission = submission_df\n",
    "lcv_submission['Pred'] = lcv_bounded\n",
    "lcv_submission.to_csv('lcv_submission.csv', index=False)"
   ]
  },
  {
   "cell_type": "code",
   "execution_count": 25,
   "metadata": {},
   "outputs": [
    {
     "name": "stdout",
     "output_type": "stream",
     "text": [
      "Best alpha value is: 1e-10\n",
      "R-squared of the model in training set is: 0.6797338459115957\n"
     ]
    },
    {
     "name": "stderr",
     "output_type": "stream",
     "text": [
      "c:\\program files (x86)\\microsoft visual studio\\shared\\python37_64\\lib\\site-packages\\sklearn\\linear_model\\coordinate_descent.py:475: ConvergenceWarning: Objective did not converge. You might want to increase the number of iterations. Duality gap: 507.1709727030284, tolerance: 4.10205\n",
      "  positive)\n"
     ]
    }
   ],
   "source": [
    "encv = ElasticNetCV(alphas=alphas, cv=5)\n",
    "\n",
    "encv.fit(x_train, y_train)\n",
    "print(\"Best alpha value is: {}\".format(encv.alpha_))\n",
    "print(\"R-squared of the model in training set is: {}\".format(encv.score(x_train, y_train)))"
   ]
  },
  {
   "cell_type": "code",
   "execution_count": 26,
   "metadata": {},
   "outputs": [],
   "source": [
    "encv_test = encv.predict(test_copy.drop(columns = ['team1', 'team2']))\n",
    "encv_bounded = np.clip(encv_test, 0, 1)\n",
    "encv_submission = submission_df\n",
    "encv_submission['Pred'] = encv_bounded\n",
    "encv_submission.to_csv('encv_submission.csv', index=False)"
   ]
  },
  {
   "cell_type": "code",
   "execution_count": 27,
   "metadata": {},
   "outputs": [],
   "source": [
    "knc1 = KNeighborsClassifier(n_neighbors=1)\n",
    "knc1.fit(x_train, y_train)\n",
    "knc1_test = knc1.predict(test_copy.drop(columns = ['team1', 'team2']))\n",
    "knc1_submission = submission_df\n",
    "knc1_submission['Pred'] = knc1_test\n",
    "knc1_submission.to_csv('knc1_submission.csv', index=False)"
   ]
  },
  {
   "cell_type": "code",
   "execution_count": 28,
   "metadata": {},
   "outputs": [],
   "source": [
    "knc5 = KNeighborsClassifier(n_neighbors=5)\n",
    "knc5.fit(x_train, y_train)\n",
    "knc5_test = knc5.predict(test_copy.drop(columns = ['team1', 'team2']))\n",
    "knc5_submission = submission_df\n",
    "knc5_submission['Pred'] = knc5_test\n",
    "knc5_submission.to_csv('knc5_submission.csv', index=False)"
   ]
  },
  {
   "cell_type": "code",
   "execution_count": 29,
   "metadata": {},
   "outputs": [],
   "source": [
    "knc10 = KNeighborsClassifier(n_neighbors=10)\n",
    "knc10.fit(x_train, y_train)\n",
    "knc10_test = knc10.predict(test_copy.drop(columns = ['team1', 'team2']))\n",
    "knc10_submission = submission_df\n",
    "knc10_submission['Pred'] = knc10_test\n",
    "knc10_submission.to_csv('knc10_submission.csv', index=False)"
   ]
  },
  {
   "cell_type": "code",
   "execution_count": 30,
   "metadata": {},
   "outputs": [],
   "source": [
    "knc20 = KNeighborsClassifier(n_neighbors=20)\n",
    "knc20.fit(x_train, y_train)\n",
    "knc20_test = knc20.predict(test_copy.drop(columns = ['team1', 'team2']))\n",
    "knc20_submission = submission_df\n",
    "knc20_submission['Pred'] = knc20_test\n",
    "knc20_submission.to_csv('knc20_submission.csv', index=False)"
   ]
  },
  {
   "cell_type": "code",
   "execution_count": 31,
   "metadata": {},
   "outputs": [],
   "source": [
    "# weighted knn classifer, n=1\n",
    "knc1w = KNeighborsClassifier(n_neighbors=1, weights='distance')\n",
    "knc1w.fit(x_train, y_train)\n",
    "knc1w_test = knc1w.predict(test_copy.drop(columns = ['team1', 'team2']))\n",
    "knc1w_submission = submission_df\n",
    "knc1w_submission['Pred'] = knc1w_test\n",
    "knc1w_submission.to_csv('knc1w_submission.csv', index=False)"
   ]
  },
  {
   "cell_type": "code",
   "execution_count": 32,
   "metadata": {},
   "outputs": [],
   "source": [
    "# weighted knn classifer, n=5\n",
    "knc5w = KNeighborsClassifier(n_neighbors=5, weights='distance')\n",
    "knc5w.fit(x_train, y_train)\n",
    "knc5w_test = knc5w.predict(test_copy.drop(columns = ['team1', 'team2']))\n",
    "knc5w_submission = submission_df\n",
    "knc5w_submission['Pred'] = knc5w_test\n",
    "knc5w_submission.to_csv('knc5w_submission.csv', index=False)"
   ]
  },
  {
   "cell_type": "code",
   "execution_count": 33,
   "metadata": {},
   "outputs": [],
   "source": [
    "# weighted knn classifer, n=10\n",
    "knc10w = KNeighborsClassifier(n_neighbors=10, weights='distance')\n",
    "knc10w.fit(x_train, y_train)\n",
    "knc10w_test = knc10w.predict(test_copy.drop(columns = ['team1', 'team2']))\n",
    "knc10w_submission = submission_df\n",
    "knc10w_submission['Pred'] = knc10w_test\n",
    "knc10w_submission.to_csv('knc10w_submission.csv', index=False)"
   ]
  },
  {
   "cell_type": "code",
   "execution_count": 34,
   "metadata": {},
   "outputs": [],
   "source": [
    "# weighted knn classifer, n=20\n",
    "knc20w = KNeighborsClassifier(n_neighbors=20, weights='distance')\n",
    "knc20w.fit(x_train, y_train)\n",
    "knc20w_test = knc20w.predict(test_copy.drop(columns = ['team1', 'team2']))\n",
    "knc20w_submission = submission_df\n",
    "knc20w_submission['Pred'] = knc20w_test\n",
    "knc20w_submission.to_csv('knc20w_submission.csv', index=False)"
   ]
  },
  {
   "cell_type": "code",
   "execution_count": 35,
   "metadata": {},
   "outputs": [],
   "source": [
    "# knn regressor, n=1\n",
    "knr1 = neighbors.KNeighborsRegressor(n_neighbors=1)\n",
    "knr1.fit(x_train, y_train)\n",
    "knr1_test = knr1.predict(test_copy.drop(columns = ['team1', 'team2']))\n",
    "knr1_submission = submission_df\n",
    "knr1_submission['Pred'] = knr1_test\n",
    "knr1_submission.to_csv('knr1_submission.csv', index=False)"
   ]
  },
  {
   "cell_type": "code",
   "execution_count": 36,
   "metadata": {},
   "outputs": [],
   "source": [
    "# knn regressor, n=5\n",
    "knr5 = neighbors.KNeighborsRegressor(n_neighbors=5)\n",
    "knr5.fit(x_train, y_train)\n",
    "knr5_test = knr5.predict(test_copy.drop(columns = ['team1', 'team2']))\n",
    "knr5_submission = submission_df\n",
    "knr5_submission['Pred'] = knr5_test\n",
    "knr5_submission.to_csv('knr5_submission.csv', index=False)"
   ]
  },
  {
   "cell_type": "code",
   "execution_count": 37,
   "metadata": {},
   "outputs": [],
   "source": [
    "# knn regressor, n=10\n",
    "knr10 = neighbors.KNeighborsRegressor(n_neighbors=10)\n",
    "knr10.fit(x_train, y_train)\n",
    "knr10_test = knr10.predict(test_copy.drop(columns = ['team1', 'team2']))\n",
    "knr10_submission = submission_df\n",
    "knr10_submission['Pred'] = knr10_test\n",
    "knr10_submission.to_csv('knr10_submission.csv', index=False)"
   ]
  },
  {
   "cell_type": "code",
   "execution_count": 38,
   "metadata": {},
   "outputs": [],
   "source": [
    "# knn regressor, n=20\n",
    "knr20 = neighbors.KNeighborsRegressor(n_neighbors=20)\n",
    "knr20.fit(x_train, y_train)\n",
    "knr20_test = knr20.predict(test_copy.drop(columns = ['team1', 'team2']))\n",
    "knr20_submission = submission_df\n",
    "knr20_submission['Pred'] = knr20_test\n",
    "knr20_submission.to_csv('knr20_submission.csv', index=False)"
   ]
  },
  {
   "cell_type": "code",
   "execution_count": 39,
   "metadata": {},
   "outputs": [],
   "source": [
    "# knn regressor, n=50\n",
    "knr50 = neighbors.KNeighborsRegressor(n_neighbors=50)\n",
    "knr50.fit(x_train, y_train)\n",
    "knr50_test = knr50.predict(test_copy.drop(columns = ['team1', 'team2']))\n",
    "knr50_submission = submission_df\n",
    "knr50_submission['Pred'] = knr50_test\n",
    "knr50_submission.to_csv('knr50_submission.csv', index=False)"
   ]
  },
  {
   "cell_type": "code",
   "execution_count": 40,
   "metadata": {},
   "outputs": [],
   "source": [
    "# knn regressor, n=100\n",
    "knr100 = neighbors.KNeighborsRegressor(n_neighbors=100)\n",
    "knr100.fit(x_train, y_train)\n",
    "knr100_test = knr100.predict(test_copy.drop(columns = ['team1', 'team2']))\n",
    "knr100_submission = submission_df\n",
    "knr100_submission['Pred'] = knr100_test\n",
    "knr100_submission.to_csv('knr100_submission.csv', index=False)"
   ]
  },
  {
   "cell_type": "code",
   "execution_count": 41,
   "metadata": {},
   "outputs": [],
   "source": [
    "# knn regressor, n=250\n",
    "knr250 = neighbors.KNeighborsRegressor(n_neighbors=250)\n",
    "knr250.fit(x_train, y_train)\n",
    "knr250_test = knr250.predict(test_copy.drop(columns = ['team1', 'team2']))\n",
    "knr250_submission = submission_df\n",
    "knr250_submission['Pred'] = knr250_test\n",
    "knr250_submission.to_csv('knr250_submission.csv', index=False)"
   ]
  },
  {
   "cell_type": "code",
   "execution_count": 42,
   "metadata": {},
   "outputs": [],
   "source": [
    "# knn regressor, n=500\n",
    "knr500 = neighbors.KNeighborsRegressor(n_neighbors=500)\n",
    "knr500.fit(x_train, y_train)\n",
    "knr500_test = knr500.predict(test_copy.drop(columns = ['team1', 'team2']))\n",
    "knr500_submission = submission_df\n",
    "knr500_submission['Pred'] = knr500_test\n",
    "knr500_submission.to_csv('knr500_submission.csv', index=False)"
   ]
  },
  {
   "cell_type": "code",
   "execution_count": 43,
   "metadata": {},
   "outputs": [],
   "source": [
    "# knn regressor, n=1000\n",
    "knr1000 = neighbors.KNeighborsRegressor(n_neighbors=1000)\n",
    "knr1000.fit(x_train, y_train)\n",
    "knr1000_test = knr1000.predict(test_copy.drop(columns = ['team1', 'team2']))\n",
    "knr1000_submission = submission_df\n",
    "knr1000_submission['Pred'] = knr1000_test\n",
    "knr1000_submission.to_csv('knr1000_submission.csv', index=False)"
   ]
  },
  {
   "cell_type": "code",
   "execution_count": 44,
   "metadata": {},
   "outputs": [],
   "source": [
    "# knn regressor, n=2500\n",
    "knr2500 = neighbors.KNeighborsRegressor(n_neighbors=2500)\n",
    "knr2500.fit(x_train, y_train)\n",
    "knr2500_test = knr2500.predict(test_copy.drop(columns = ['team1', 'team2']))\n",
    "knr2500_submission = submission_df\n",
    "knr2500_submission['Pred'] = knr2500_test\n",
    "knr2500_submission.to_csv('knr2500_submission.csv', index=False)"
   ]
  },
  {
   "cell_type": "code",
   "execution_count": 45,
   "metadata": {},
   "outputs": [],
   "source": [
    "# knn regressor, n=5000\n",
    "knr5000 = neighbors.KNeighborsRegressor(n_neighbors=5000)\n",
    "knr5000.fit(x_train, y_train)\n",
    "knr5000_test = knr5000.predict(test_copy.drop(columns = ['team1', 'team2']))\n",
    "knr5000_submission = submission_df\n",
    "knr5000_submission['Pred'] = knr5000_test\n",
    "knr5000_submission.to_csv('knr5000_submission.csv', index=False)"
   ]
  },
  {
   "cell_type": "code",
   "execution_count": 46,
   "metadata": {},
   "outputs": [],
   "source": [
    "# knn regressor, n=10000\n",
    "knr10000 = neighbors.KNeighborsRegressor(n_neighbors=10000)\n",
    "knr10000.fit(x_train, y_train)\n",
    "knr10000_test = knr10000.predict(test_copy.drop(columns = ['team1', 'team2']))\n",
    "knr10000_submission = submission_df\n",
    "knr10000_submission['Pred'] = knr10000_test\n",
    "knr10000_submission.to_csv('knr10000_submission.csv', index=False)"
   ]
  },
  {
   "cell_type": "code",
   "execution_count": 47,
   "metadata": {},
   "outputs": [],
   "source": [
    "# knn regressor, n=25000\n",
    "knr25000 = neighbors.KNeighborsRegressor(n_neighbors=25000)\n",
    "knr25000.fit(x_train, y_train)\n",
    "knr25000_test = knr25000.predict(test_copy.drop(columns = ['team1', 'team2']))\n",
    "knr25000_submission = submission_df\n",
    "knr25000_submission['Pred'] = knr25000_test\n",
    "knr25000_submission.to_csv('knr25000_submission.csv', index=False)"
   ]
  },
  {
   "cell_type": "code",
   "execution_count": 48,
   "metadata": {},
   "outputs": [],
   "source": [
    "# knn regressor, n=50000\n",
    "knr50000 = neighbors.KNeighborsRegressor(n_neighbors=50000)\n",
    "knr50000.fit(x_train, y_train)\n",
    "knr50000_test = knr50000.predict(test_copy.drop(columns = ['team1', 'team2']))\n",
    "knr50000_submission = submission_df\n",
    "knr50000_submission['Pred'] = knr50000_test\n",
    "knr50000_submission.to_csv('knr50000_submission.csv', index=False)"
   ]
  },
  {
   "cell_type": "code",
   "execution_count": 49,
   "metadata": {},
   "outputs": [],
   "source": [
    "# knn regressor, n=100000\n",
    "knr100000 = neighbors.KNeighborsRegressor(n_neighbors=100000)\n",
    "knr100000.fit(x_train, y_train)\n",
    "knr100000_test = knr100000.predict(test_copy.drop(columns = ['team1', 'team2']))\n",
    "knr100000_submission = submission_df\n",
    "knr100000_submission['Pred'] = knr100000_test\n",
    "knr100000_submission.to_csv('knr100000_submission.csv', index=False)"
   ]
  },
  {
   "cell_type": "code",
   "execution_count": 50,
   "metadata": {},
   "outputs": [],
   "source": [
    "# weighted knn regressor, n=1\n",
    "knr1w = neighbors.KNeighborsRegressor(n_neighbors=1, weights='distance')\n",
    "knr1w.fit(x_train, y_train)\n",
    "knr1w_test = knr1w.predict(test_copy.drop(columns = ['team1', 'team2']))\n",
    "knr1w_submission = submission_df\n",
    "knr1w_submission['Pred'] = knr1w_test\n",
    "knr1w_submission.to_csv('knr1w_submission.csv', index=False)"
   ]
  },
  {
   "cell_type": "code",
   "execution_count": 51,
   "metadata": {},
   "outputs": [],
   "source": [
    "# weighted knn regressor, n=5\n",
    "knr5w = neighbors.KNeighborsRegressor(n_neighbors=5, weights='distance')\n",
    "knr5w.fit(x_train, y_train)\n",
    "knr5w_test = knr5w.predict(test_copy.drop(columns = ['team1', 'team2']))\n",
    "knr5w_submission = submission_df\n",
    "knr5w_submission['Pred'] = knr5w_test\n",
    "knr5w_submission.to_csv('knr5w_submission.csv', index=False)"
   ]
  },
  {
   "cell_type": "code",
   "execution_count": 52,
   "metadata": {},
   "outputs": [],
   "source": [
    "# weighted knn regressor, n=10\n",
    "knr10w = neighbors.KNeighborsRegressor(n_neighbors=10, weights='distance')\n",
    "knr10w.fit(x_train, y_train)\n",
    "knr10w_test = knr10w.predict(test_copy.drop(columns = ['team1', 'team2']))\n",
    "knr10w_submission = submission_df\n",
    "knr10w_submission['Pred'] = knr10w_test\n",
    "knr10w_submission.to_csv('knr10w_submission.csv', index=False)"
   ]
  },
  {
   "cell_type": "code",
   "execution_count": 53,
   "metadata": {},
   "outputs": [],
   "source": [
    "# weighted knn regressor, n=20\n",
    "knr20w = neighbors.KNeighborsRegressor(n_neighbors=20, weights='distance')\n",
    "knr20w.fit(x_train, y_train)\n",
    "knr20w_test = knr20w.predict(test_copy.drop(columns = ['team1', 'team2']))\n",
    "knr20w_submission = submission_df\n",
    "knr20w_submission['Pred'] = knr20w_test\n",
    "knr20w_submission.to_csv('knr20w_submission.csv', index=False)"
   ]
  }
 ],
 "metadata": {
  "kernelspec": {
   "display_name": "Python 3",
   "language": "python",
   "name": "python3"
  },
  "language_info": {
   "codemirror_mode": {
    "name": "ipython",
    "version": 3
   },
   "file_extension": ".py",
   "mimetype": "text/x-python",
   "name": "python",
   "nbconvert_exporter": "python",
   "pygments_lexer": "ipython3",
   "version": "3.7.4"
  }
 },
 "nbformat": 4,
 "nbformat_minor": 2
}
