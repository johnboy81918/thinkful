{
 "cells": [
  {
   "cell_type": "code",
   "execution_count": 1,
   "metadata": {},
   "outputs": [],
   "source": [
    "%matplotlib inline\n",
    "import numpy as np\n",
    "import pandas as pd\n",
    "import scipy\n",
    "import sklearn\n",
    "import matplotlib.pyplot as plt\n",
    "import seaborn as sns"
   ]
  },
  {
   "cell_type": "markdown",
   "metadata": {},
   "source": [
    "# Naive Bayes Challenge\n",
    "\n",
    "Objective: Create a Naive Bayes classifier to perform sentiment analysis on reviews from a website (amazon, yelp, or imdb)"
   ]
  },
  {
   "cell_type": "markdown",
   "metadata": {},
   "source": [
    "First, let's load the amazon data, we'll use this to train our classifier."
   ]
  },
  {
   "cell_type": "code",
   "execution_count": 2,
   "metadata": {},
   "outputs": [],
   "source": [
    "amazon_raw = pd.read_csv('amazon_cells_labelled.txt', delimiter= '\\t', header=None)\n",
    "amazon_raw.columns = ['message', 'sentiment']"
   ]
  },
  {
   "cell_type": "code",
   "execution_count": 3,
   "metadata": {},
   "outputs": [
    {
     "data": {
      "text/html": [
       "<div>\n",
       "<style scoped>\n",
       "    .dataframe tbody tr th:only-of-type {\n",
       "        vertical-align: middle;\n",
       "    }\n",
       "\n",
       "    .dataframe tbody tr th {\n",
       "        vertical-align: top;\n",
       "    }\n",
       "\n",
       "    .dataframe thead th {\n",
       "        text-align: right;\n",
       "    }\n",
       "</style>\n",
       "<table border=\"1\" class=\"dataframe\">\n",
       "  <thead>\n",
       "    <tr style=\"text-align: right;\">\n",
       "      <th></th>\n",
       "      <th>message</th>\n",
       "      <th>sentiment</th>\n",
       "    </tr>\n",
       "  </thead>\n",
       "  <tbody>\n",
       "    <tr>\n",
       "      <th>0</th>\n",
       "      <td>So there is no way for me to plug it in here i...</td>\n",
       "      <td>0</td>\n",
       "    </tr>\n",
       "    <tr>\n",
       "      <th>1</th>\n",
       "      <td>Good case, Excellent value.</td>\n",
       "      <td>1</td>\n",
       "    </tr>\n",
       "    <tr>\n",
       "      <th>2</th>\n",
       "      <td>Great for the jawbone.</td>\n",
       "      <td>1</td>\n",
       "    </tr>\n",
       "    <tr>\n",
       "      <th>3</th>\n",
       "      <td>Tied to charger for conversations lasting more...</td>\n",
       "      <td>0</td>\n",
       "    </tr>\n",
       "    <tr>\n",
       "      <th>4</th>\n",
       "      <td>The mic is great.</td>\n",
       "      <td>1</td>\n",
       "    </tr>\n",
       "  </tbody>\n",
       "</table>\n",
       "</div>"
      ],
      "text/plain": [
       "                                             message  sentiment\n",
       "0  So there is no way for me to plug it in here i...          0\n",
       "1                        Good case, Excellent value.          1\n",
       "2                             Great for the jawbone.          1\n",
       "3  Tied to charger for conversations lasting more...          0\n",
       "4                                  The mic is great.          1"
      ]
     },
     "execution_count": 3,
     "metadata": {},
     "output_type": "execute_result"
    }
   ],
   "source": [
    "amazon_raw.head()"
   ]
  },
  {
   "cell_type": "markdown",
   "metadata": {},
   "source": [
    "Next, let's find the most commonly used words - choosing more common words will make the classifier more applicable to larger datasets (which are also likely to contain the same common words)."
   ]
  },
  {
   "cell_type": "code",
   "execution_count": 4,
   "metadata": {},
   "outputs": [
    {
     "name": "stdout",
     "output_type": "stream",
     "text": [
      "the      513\n",
      "i        313\n",
      "and      310\n",
      "is       238\n",
      "it       237\n",
      "a        217\n",
      "this     197\n",
      "to       195\n",
      "my       143\n",
      "for      119\n",
      "of       119\n",
      "phone    118\n",
      "not      115\n",
      "with     107\n",
      "very     102\n",
      "was       90\n",
      "in        87\n",
      "on        87\n",
      "that      75\n",
      "have      72\n",
      "dtype: int64\n",
      "good       66\n",
      "great      63\n",
      "you        62\n",
      "but        45\n",
      "as         45\n",
      "had        43\n",
      "works      43\n",
      "so         42\n",
      "are        41\n",
      "battery    39\n",
      "sound      35\n",
      "one        34\n",
      "all        34\n",
      "has        34\n",
      "phone.     33\n",
      "from       33\n",
      "quality    33\n",
      "your       32\n",
      "headset    32\n",
      "would      32\n",
      "dtype: int64\n",
      "it.          31\n",
      "like         30\n",
      "if           29\n",
      "i've         28\n",
      "don't        28\n",
      "than         28\n",
      "after        27\n",
      "product      27\n",
      "use          27\n",
      "it's         27\n",
      "no           26\n",
      "be           26\n",
      "really       26\n",
      "-            24\n",
      "recommend    24\n",
      "at           24\n",
      "does         23\n",
      "or           23\n",
      "work         23\n",
      "when         22\n",
      "dtype: int64\n",
      "i'm          22\n",
      "get          22\n",
      "only         22\n",
      "excellent    21\n",
      "up           21\n",
      "just         21\n",
      "product.     21\n",
      "out          20\n",
      "well         20\n",
      "am           20\n",
      "love         20\n",
      "any          20\n",
      "best         19\n",
      "ear          19\n",
      "2            19\n",
      "me           19\n",
      "nice         19\n",
      "do           19\n",
      "an           19\n",
      "also         19\n",
      "dtype: int64\n",
      "these        18\n",
      "because      18\n",
      "worked       18\n",
      "can          18\n",
      "about        18\n",
      "better       18\n",
      "even         18\n",
      "they         17\n",
      "new          17\n",
      "bought       17\n",
      "great.       17\n",
      "then         17\n",
      "doesn't      16\n",
      "its          16\n",
      "could        16\n",
      "what         16\n",
      "car          15\n",
      "first        15\n",
      "bluetooth    15\n",
      "easy         15\n",
      "dtype: int64\n"
     ]
    }
   ],
   "source": [
    "most_common_words = pd.Series(' '.join(amazon_raw['message']).lower().split()).value_counts()[:100]\n",
    "print(most_common_words[:20])\n",
    "print(most_common_words[20:40])\n",
    "print(most_common_words[40:60])\n",
    "print(most_common_words[60:80])\n",
    "print(most_common_words[80:])"
   ]
  },
  {
   "cell_type": "code",
   "execution_count": 5,
   "metadata": {},
   "outputs": [],
   "source": [
    "# select keywords that could be useful for determining sentiment\n",
    "\n",
    "# first keywords list (25 most common that could have had sentiment relation)\n",
    "#keywords = ['not', 'very', 'good', 'great', 'but', 'works', 'quality', 'like', \"don't\", 'no', 'really', 'recommend', 'work',\n",
    "#            'excellent', 'just', 'well', 'love', 'nice', 'best', 'worked', 'better', 'great.', \"doesn't\", 'easy', 'well.']\n",
    "\n",
    "# second keywords list (keeping only the explicitly positive keywords)\n",
    "#keywords = ['good', 'great', 'like', 'excellent', 'love', 'nice', 'best', 'better', 'great.']\n",
    "\n",
    "# third keywords list (keeping only the explicitly negative keywords)\n",
    "keywords = ['not', \"don't\", 'no', \"doesn't\"]\n",
    "\n",
    "for key in keywords:\n",
    "    # Note that we add spaces around the key so that we're getting the word,\n",
    "    # not just pattern matching.\n",
    "    amazon_raw[str(key)] = amazon_raw.message.str.contains(\n",
    "        ' ' + str(key) + ' ',\n",
    "        case=False\n",
    "    )"
   ]
  },
  {
   "cell_type": "markdown",
   "metadata": {},
   "source": [
    "Let's check a heatmap to see how strongly any of the keywords are correlated to each other before moving forward."
   ]
  },
  {
   "cell_type": "code",
   "execution_count": 6,
   "metadata": {},
   "outputs": [
    {
     "data": {
      "text/plain": [
       "<matplotlib.axes._subplots.AxesSubplot at 0x140ba370>"
      ]
     },
     "execution_count": 6,
     "metadata": {},
     "output_type": "execute_result"
    },
    {
     "data": {
      "image/png": "[encoded data removed]",
      "text/plain": [
       "<Figure size 432x288 with 2 Axes>"
      ]
     },
     "metadata": {
      "needs_background": "light"
     },
     "output_type": "display_data"
    }
   ],
   "source": [
    "sns.heatmap(amazon_raw.corr())"
   ]
  },
  {
   "cell_type": "markdown",
   "metadata": {},
   "source": [
    "It doesn't appear that many of the keywords are highly correlated, so let's continue using all of them for this exercise."
   ]
  },
  {
   "cell_type": "code",
   "execution_count": 7,
   "metadata": {},
   "outputs": [],
   "source": [
    "# create the data and target for NB model\n",
    "\n",
    "data = amazon_raw[keywords]\n",
    "target = amazon_raw['sentiment']"
   ]
  },
  {
   "cell_type": "code",
   "execution_count": 8,
   "metadata": {},
   "outputs": [
    {
     "name": "stdout",
     "output_type": "stream",
     "text": [
      "Number of mislabeled points out of a total 1000 points : 417\n"
     ]
    }
   ],
   "source": [
    "# Our data is binary / boolean, so we're importing the Bernoulli classifier.\n",
    "from sklearn.naive_bayes import BernoulliNB\n",
    "\n",
    "# Instantiate our model and store it in a new variable.\n",
    "bnb = BernoulliNB()\n",
    "\n",
    "# Fit our model to the data.\n",
    "bnb.fit(data, target)\n",
    "\n",
    "# Classify, storing the result in a new variable.\n",
    "y_pred = bnb.predict(data)\n",
    "\n",
    "# Display our results.\n",
    "print(\"Number of mislabeled points out of a total {} points : {}\".format(\n",
    "    data.shape[0],\n",
    "    (target != y_pred).sum()\n",
    "))"
   ]
  },
  {
   "cell_type": "markdown",
   "metadata": {},
   "source": [
    "Not great, but I can always modify the keywords to try to improve!\n",
    "\n",
    "first keywords list: 322 mislabeled\n",
    "\n",
    "second: 395\n",
    "\n",
    "third: 417"
   ]
  },
  {
   "cell_type": "code",
   "execution_count": null,
   "metadata": {},
   "outputs": [],
   "source": []
  }
 ],
 "metadata": {
  "kernelspec": {
   "display_name": "Python 3",
   "language": "python",
   "name": "python3"
  },
  "language_info": {
   "codemirror_mode": {
    "name": "ipython",
    "version": 3
   },
   "file_extension": ".py",
   "mimetype": "text/x-python",
   "name": "python",
   "nbconvert_exporter": "python",
   "pygments_lexer": "ipython3",
   "version": "3.7.2"
  }
 },
 "nbformat": 4,
 "nbformat_minor": 2
}
